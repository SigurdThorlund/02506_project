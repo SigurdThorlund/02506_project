{
 "cells": [
  {
   "cell_type": "code",
   "execution_count": 2,
   "metadata": {},
   "outputs": [],
   "source": [
    "import torch\n",
    "import numpy as np\n",
    "import matplotlib.pyplot as plt\n",
    "import torch\n",
    "import PIL.Image\n",
    "import os\n",
    "import seaborn as sbn\n",
    "from albumentations import GaussNoise, RandomGridShuffle, Normalize, PixelDropout\n",
    "import elasticdeform\n",
    "from skimage.io import imread, imsave\n",
    "import glob\n",
    "\n",
    "sbn.set()\n",
    "\n",
    "datadir = \"EM_ISBI_CHALLENGE\""
   ]
  },
  {
   "cell_type": "code",
   "execution_count": 10,
   "metadata": {},
   "outputs": [],
   "source": [
    "train_image_paths = glob.glob(os.path.join(datadir, \"train_images\", \"*.png\"))\n",
    "train_image_paths.sort()\n",
    "\n",
    "train_label_paths = glob.glob(os.path.join(datadir, \"train_labels\", \"*.png\"))\n",
    "train_label_paths.sort()"
   ]
  },
  {
   "cell_type": "code",
   "execution_count": 12,
   "metadata": {},
   "outputs": [],
   "source": [
    "# load images in paths\n",
    "train_images = [imread(path) for path in train_image_paths]\n",
    "train_labels = [imread(path) for path in train_label_paths]"
   ]
  },
  {
   "cell_type": "code",
   "execution_count": 21,
   "metadata": {},
   "outputs": [
    {
     "data": {
      "text/plain": [
       "106.20769119262695"
      ]
     },
     "execution_count": 21,
     "metadata": {},
     "output_type": "execute_result"
    }
   ],
   "source": [
    "N = len(train_images)\n",
    "\n",
    "mse_grid = np.zeros((N, N))\n",
    "\n",
    "for i in range(N):\n",
    "    for j in range(N):\n",
    "        mse_grid[i, j] = np.mean((train_images[i] - train_images[j]) ** 2)\n",
    "\n",
    "\n",
    "np.argmax(mse_grid)"
   ]
  },
  {
   "cell_type": "code",
   "execution_count": null,
   "metadata": {},
   "outputs": [],
   "source": []
  }
 ],
 "metadata": {
  "kernelspec": {
   "display_name": "Python 3",
   "language": "python",
   "name": "python3"
  },
  "language_info": {
   "codemirror_mode": {
    "name": "ipython",
    "version": 3
   },
   "file_extension": ".py",
   "mimetype": "text/x-python",
   "name": "python",
   "nbconvert_exporter": "python",
   "pygments_lexer": "ipython3",
   "version": "3.10.10"
  },
  "orig_nbformat": 4
 },
 "nbformat": 4,
 "nbformat_minor": 2
}
